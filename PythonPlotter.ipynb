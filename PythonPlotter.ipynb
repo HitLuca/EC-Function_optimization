{
 "cells": [
  {
   "cell_type": "code",
   "execution_count": 1,
   "metadata": {},
   "outputs": [
    {
     "name": "stdout",
     "output_type": "stream",
     "text": [
      "Populating the interactive namespace from numpy and matplotlib\n"
     ]
    }
   ],
   "source": [
    "%pylab inline"
   ]
  },
  {
   "cell_type": "code",
   "execution_count": 6,
   "metadata": {},
   "outputs": [
    {
     "name": "stdout",
     "output_type": "stream",
     "text": [
      "algorithmType=SteadyStateGA\n",
      "populationSize=100\n",
      "stagnancyThreshold=250\n",
      "wipeoutThreshold=500\n",
      "epurationDegree=0.7\n",
      "epochs=-1\n",
      "elitism=0\n",
      "replacementNumber=25\n",
      "crossover=CrossoverAverageWeighted\n",
      "mutationSigma=0.01\n",
      "mutationProbability=1.0\n",
      "mutation=MutationGaussian\n",
      "parentsNumber=2\n",
      "selectionPressure=1.75\n",
      "selection=SelectionLinearRanking\n",
      "survival=SurvivalBestFitness\n",
      "best fitness: 0.0022574262281451055\n"
     ]
    },
    {
     "data": {
      "image/png": "[encoded data removed]",
      "text/plain": [
       "<matplotlib.figure.Figure at 0x7f5995deac90>"
      ]
     },
     "metadata": {},
     "output_type": "display_data"
    }
   ],
   "source": [
    "mean_fitness = []\n",
    "best_fitness = []\n",
    "worst_fitness = []\n",
    "\n",
    "properties = False\n",
    "properties_finished = False\n",
    "scores = False\n",
    "scores_finished = False\n",
    "with open('logs/last_run.log') as f:\n",
    "    for line in f.readlines():\n",
    "        line = line.replace('\\n', '')\n",
    "        if line == \"Properties:\":\n",
    "            properties = True\n",
    "        elif line == \"EndProperties\":\n",
    "            properties = False\n",
    "            properties_finished = True\n",
    "        elif line == \"Scores:\":\n",
    "            scores = True\n",
    "            mean_fitness.append([])\n",
    "            best_fitness.append([])\n",
    "            worst_fitness.append([])\n",
    "        elif line == \"EndScores\":\n",
    "            scores = False\n",
    "            scores_finished = True\n",
    "        elif properties and not properties_finished:\n",
    "            print line\n",
    "        elif scores:\n",
    "            line = line.replace(',', '').split()\n",
    "            mean_fitness[-1].append(line[1])\n",
    "            best_fitness[-1].append(line[2])\n",
    "            worst_fitness[-1].append(line[3])\n",
    "\n",
    "for i in range(len(mean_fitness)):\n",
    "    figure(figsize=(15, 5))\n",
    "    print \"best fitness:\", best_fitness[i][-1]\n",
    "    plot(mean_fitness[i], label=\"mean fitness\")\n",
    "    plot(best_fitness[i], label=\"best fitness\")\n",
    "    plot(worst_fitness[i], label=\"worst fitness\")\n",
    "    plt.legend()\n",
    "    plt.ylim(0, 0.01)"
   ]
  },
  {
   "cell_type": "code",
   "execution_count": null,
   "metadata": {},
   "outputs": [],
   "source": []
  }
 ],
 "metadata": {
  "kernelspec": {
   "display_name": "Python 2",
   "language": "python",
   "name": "python2"
  },
  "language_info": {
   "codemirror_mode": {
    "name": "ipython",
    "version": 2
   },
   "file_extension": ".py",
   "mimetype": "text/x-python",
   "name": "python",
   "nbconvert_exporter": "python",
   "pygments_lexer": "ipython2",
   "version": "2.7.12"
  }
 },
 "nbformat": 4,
 "nbformat_minor": 2
}
